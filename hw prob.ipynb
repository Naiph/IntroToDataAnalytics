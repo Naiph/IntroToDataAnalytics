{
 "cells": [
  {
   "cell_type": "code",
   "execution_count": 1,
   "metadata": {
    "collapsed": true
   },
   "outputs": [],
   "source": [
    "import numpy as np\n",
    "from numpy.random import randn"
   ]
  },
  {
   "cell_type": "code",
   "execution_count": 2,
   "metadata": {},
   "outputs": [
    {
     "name": "stdout",
     "output_type": "stream",
     "text": [
      "70.15   25.65   3.95   0.25\n"
     ]
    }
   ],
   "source": [
    "i=0\n",
    "j=0\n",
    "k=0\n",
    "l=0\n",
    "b=2000\n",
    "for a in range(b):\n",
    "    x=randn()\n",
    "    if (x>-1 and x<1):\n",
    "        i=i+1\n",
    "    elif (x>-2 and x<-1) or (x>1 and x<2):\n",
    "        j=j+1\n",
    "    elif (x>-3 and x<-2) or (x>2 and x<3):\n",
    "        k=k+1\n",
    "    else:\n",
    "        l=l+1\n",
    "    #print(x)\n",
    "c=(i*100)/b\n",
    "d=(j*100)/b\n",
    "e=(k*100)/b\n",
    "f=(l*100)/b\n",
    "\n",
    "print(c,\" \",d,\" \",e, \" \",f)"
   ]
  },
  {
   "cell_type": "code",
   "execution_count": null,
   "metadata": {
    "collapsed": true
   },
   "outputs": [],
   "source": []
  }
 ],
 "metadata": {
  "kernelspec": {
   "display_name": "Python 3",
   "language": "python",
   "name": "python3"
  },
  "language_info": {
   "codemirror_mode": {
    "name": "ipython",
    "version": 3
   },
   "file_extension": ".py",
   "mimetype": "text/x-python",
   "name": "python",
   "nbconvert_exporter": "python",
   "pygments_lexer": "ipython3",
   "version": "3.6.1"
  }
 },
 "nbformat": 4,
 "nbformat_minor": 2
}
